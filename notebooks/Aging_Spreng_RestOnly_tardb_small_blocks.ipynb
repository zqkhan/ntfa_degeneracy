{
 "cells": [
  {
   "cell_type": "code",
   "execution_count": 1,
   "metadata": {},
   "outputs": [
    {
     "name": "stdout",
     "output_type": "stream",
     "text": [
      "/home/zulqarnain/Code/ntfa_rest_template/ntfa_degeneracy\n"
     ]
    }
   ],
   "source": [
    "%cd ../"
   ]
  },
  {
   "cell_type": "code",
   "execution_count": 2,
   "metadata": {},
   "outputs": [],
   "source": [
    "import collections\n",
    "import logging\n",
    "import htfa_torch.niidb as niidb\n",
    "import htfa_torch.utils as utils\n",
    "import glob\n",
    "import os\n",
    "import webdataset as wds\n",
    "import torch\n",
    "import pandas as pd\n",
    "import numpy as np\n",
    "import itertools"
   ]
  },
  {
   "cell_type": "code",
   "execution_count": 3,
   "metadata": {},
   "outputs": [],
   "source": [
    "def sentinel(f):\n",
    "    return f if f is not None else 0.0"
   ]
  },
  {
   "cell_type": "code",
   "execution_count": 4,
   "metadata": {},
   "outputs": [],
   "source": [
    "%matplotlib inline"
   ]
  },
  {
   "cell_type": "code",
   "execution_count": 5,
   "metadata": {},
   "outputs": [],
   "source": [
    "logging.basicConfig(format='%(asctime)s %(message)s', datefmt='%m/%d/%Y %H:%M:%S',\n",
    "                    level=logging.INFO)"
   ]
  },
  {
   "cell_type": "code",
   "execution_count": 6,
   "metadata": {},
   "outputs": [],
   "source": [
    "tar_file = 'data/mini_aging_site1_blocks.tar'\n",
    "mask_file = '/data/zulqarnain/fmri_data/aging_data_fmriprep/masks/GM_fmriprep_spreng_rest_mask_N7.nii.gz'\n",
    "nifti_files = '/data/zulqarnain/fmri_data/aging_data_fmriprep/tedana/clean_nifti_files/'\n",
    "participant_file = '/data/zulqarnain/fmri_data/aging_data_fmriprep/participants.tsv'\n",
    "FILENAME_TEMPLATE = 'sub-%03d_ses-%01d_task-rest_space-MNI152NLin2009cAsym_res-2_desc-optcomDenoised_bold.nii.gz'\n",
    "def aging_filename(subject, ses):\n",
    "    return nifti_files + (FILENAME_TEMPLATE % (subject, ses))"
   ]
  },
  {
   "cell_type": "code",
   "execution_count": 7,
   "metadata": {},
   "outputs": [],
   "source": [
    "subjects = [193, 194, 195, 197, 154, 163, 220]\n",
    "sessions = [1, 2]\n",
    "NUM_IGNORE_TRS = 2"
   ]
  },
  {
   "cell_type": "code",
   "execution_count": 8,
   "metadata": {},
   "outputs": [],
   "source": [
    "subjects_sessions = [x for x in itertools.product(subjects, sessions)]\n",
    "session_lengths = {key:[] for key in subjects_sessions}"
   ]
  },
  {
   "cell_type": "code",
   "execution_count": 9,
   "metadata": {},
   "outputs": [],
   "source": [
    "existed = os.path.isfile(tar_file)\n",
    "sink = wds.TarWriter(tar_file)\n",
    "\n",
    "\n",
    "OVERWRITE = True"
   ]
  },
  {
   "cell_type": "code",
   "execution_count": 10,
   "metadata": {},
   "outputs": [],
   "source": [
    "participants_db = pd.read_csv(participant_file, sep='\\t')"
   ]
  },
  {
   "cell_type": "code",
   "execution_count": 11,
   "metadata": {},
   "outputs": [
    {
     "data": {
      "text/html": [
       "<div>\n",
       "<style scoped>\n",
       "    .dataframe tbody tr th:only-of-type {\n",
       "        vertical-align: middle;\n",
       "    }\n",
       "\n",
       "    .dataframe tbody tr th {\n",
       "        vertical-align: top;\n",
       "    }\n",
       "\n",
       "    .dataframe thead th {\n",
       "        text-align: right;\n",
       "    }\n",
       "</style>\n",
       "<table border=\"1\" class=\"dataframe\">\n",
       "  <thead>\n",
       "    <tr style=\"text-align: right;\">\n",
       "      <th></th>\n",
       "      <th>participant_id</th>\n",
       "      <th>sex</th>\n",
       "      <th>site</th>\n",
       "      <th>agegroup</th>\n",
       "      <th>age</th>\n",
       "      <th>education</th>\n",
       "      <th>openneuro</th>\n",
       "      <th>flair_slicediff</th>\n",
       "      <th>rest_voldiff</th>\n",
       "    </tr>\n",
       "  </thead>\n",
       "  <tbody>\n",
       "    <tr>\n",
       "      <th>0</th>\n",
       "      <td>sub-01</td>\n",
       "      <td>F</td>\n",
       "      <td>1</td>\n",
       "      <td>Y</td>\n",
       "      <td>21</td>\n",
       "      <td>15.0</td>\n",
       "      <td>0</td>\n",
       "      <td>1</td>\n",
       "      <td>0</td>\n",
       "    </tr>\n",
       "    <tr>\n",
       "      <th>1</th>\n",
       "      <td>sub-02</td>\n",
       "      <td>F</td>\n",
       "      <td>1</td>\n",
       "      <td>O</td>\n",
       "      <td>73</td>\n",
       "      <td>16.0</td>\n",
       "      <td>0</td>\n",
       "      <td>0</td>\n",
       "      <td>0</td>\n",
       "    </tr>\n",
       "    <tr>\n",
       "      <th>2</th>\n",
       "      <td>sub-03</td>\n",
       "      <td>F</td>\n",
       "      <td>1</td>\n",
       "      <td>O</td>\n",
       "      <td>77</td>\n",
       "      <td>16.0</td>\n",
       "      <td>0</td>\n",
       "      <td>0</td>\n",
       "      <td>0</td>\n",
       "    </tr>\n",
       "    <tr>\n",
       "      <th>3</th>\n",
       "      <td>sub-04</td>\n",
       "      <td>M</td>\n",
       "      <td>1</td>\n",
       "      <td>O</td>\n",
       "      <td>68</td>\n",
       "      <td>16.0</td>\n",
       "      <td>0</td>\n",
       "      <td>0</td>\n",
       "      <td>0</td>\n",
       "    </tr>\n",
       "    <tr>\n",
       "      <th>4</th>\n",
       "      <td>sub-05</td>\n",
       "      <td>F</td>\n",
       "      <td>1</td>\n",
       "      <td>O</td>\n",
       "      <td>60</td>\n",
       "      <td>22.0</td>\n",
       "      <td>0</td>\n",
       "      <td>0</td>\n",
       "      <td>0</td>\n",
       "    </tr>\n",
       "  </tbody>\n",
       "</table>\n",
       "</div>"
      ],
      "text/plain": [
       "  participant_id sex  site agegroup age  education  openneuro  \\\n",
       "0         sub-01   F     1        Y  21       15.0          0   \n",
       "1         sub-02   F     1        O  73       16.0          0   \n",
       "2         sub-03   F     1        O  77       16.0          0   \n",
       "3         sub-04   M     1        O  68       16.0          0   \n",
       "4         sub-05   F     1        O  60       22.0          0   \n",
       "\n",
       "   flair_slicediff  rest_voldiff  \n",
       "0                1             0  \n",
       "1                0             0  \n",
       "2                0             0  \n",
       "3                0             0  \n",
       "4                0             0  "
      ]
     },
     "execution_count": 11,
     "metadata": {},
     "output_type": "execute_result"
    }
   ],
   "source": [
    "participants_db.head()"
   ]
  },
  {
   "cell_type": "code",
   "execution_count": 12,
   "metadata": {},
   "outputs": [
    {
     "name": "stderr",
     "output_type": "stream",
     "text": [
      "09/15/2023 10:26:11 Loading Nifti image /data/zulqarnain/fmri_data/aging_data_fmriprep/tedana/clean_nifti_files/sub-193_ses-1_task-rest_space-MNI152NLin2009cAsym_res-2_desc-optcomDenoised_bold.nii.gz with mask None (zscore=True, smooth=None, zscore_by_rest=False)\n",
      "09/15/2023 10:26:23 Loading Nifti image /data/zulqarnain/fmri_data/aging_data_fmriprep/tedana/clean_nifti_files/sub-193_ses-1_task-rest_space-MNI152NLin2009cAsym_res-2_desc-optcomDenoised_bold.nii.gz with mask /data/zulqarnain/fmri_data/aging_data_fmriprep/masks/GM_fmriprep_spreng_rest_mask_N7.nii.gz (zscore=True, smooth=None, zscore_by_rest=False)\n",
      "09/15/2023 10:26:30 Block 1 rest of run 1 started at 2.000000, ended at 32.000000, contained 30 TRs\n",
      "09/15/2023 10:26:30 Block 2 rest of run 1 started at 32.000000, ended at 62.000000, contained 30 TRs\n",
      "09/15/2023 10:26:31 Block 3 rest of run 1 started at 62.000000, ended at 92.000000, contained 30 TRs\n",
      "09/15/2023 10:26:31 Block 4 rest of run 1 started at 92.000000, ended at 122.000000, contained 30 TRs\n",
      "09/15/2023 10:26:31 Block 5 rest of run 1 started at 122.000000, ended at 152.000000, contained 30 TRs\n",
      "09/15/2023 10:26:31 Block 6 rest of run 1 started at 152.000000, ended at 182.000000, contained 30 TRs\n",
      "09/15/2023 10:26:31 Block 7 rest of run 1 started at 182.000000, ended at 204.000000, contained 22 TRs\n",
      "09/15/2023 10:26:31 Loading Nifti image /data/zulqarnain/fmri_data/aging_data_fmriprep/tedana/clean_nifti_files/sub-193_ses-2_task-rest_space-MNI152NLin2009cAsym_res-2_desc-optcomDenoised_bold.nii.gz with mask None (zscore=True, smooth=None, zscore_by_rest=False)\n",
      "09/15/2023 10:26:43 Loading Nifti image /data/zulqarnain/fmri_data/aging_data_fmriprep/tedana/clean_nifti_files/sub-193_ses-2_task-rest_space-MNI152NLin2009cAsym_res-2_desc-optcomDenoised_bold.nii.gz with mask /data/zulqarnain/fmri_data/aging_data_fmriprep/masks/GM_fmriprep_spreng_rest_mask_N7.nii.gz (zscore=True, smooth=None, zscore_by_rest=False)\n",
      "09/15/2023 10:26:51 Block 8 rest of run 2 started at 2.000000, ended at 32.000000, contained 30 TRs\n",
      "09/15/2023 10:26:51 Block 9 rest of run 2 started at 32.000000, ended at 62.000000, contained 30 TRs\n",
      "09/15/2023 10:26:51 Block 10 rest of run 2 started at 62.000000, ended at 92.000000, contained 30 TRs\n",
      "09/15/2023 10:26:51 Block 11 rest of run 2 started at 92.000000, ended at 122.000000, contained 30 TRs\n",
      "09/15/2023 10:26:51 Block 12 rest of run 2 started at 122.000000, ended at 152.000000, contained 30 TRs\n",
      "09/15/2023 10:26:51 Block 13 rest of run 2 started at 152.000000, ended at 182.000000, contained 30 TRs\n",
      "09/15/2023 10:26:51 Block 14 rest of run 2 started at 182.000000, ended at 204.000000, contained 22 TRs\n",
      "09/15/2023 10:26:51 Loading Nifti image /data/zulqarnain/fmri_data/aging_data_fmriprep/tedana/clean_nifti_files/sub-194_ses-1_task-rest_space-MNI152NLin2009cAsym_res-2_desc-optcomDenoised_bold.nii.gz with mask None (zscore=True, smooth=None, zscore_by_rest=False)\n",
      "09/15/2023 10:27:04 Loading Nifti image /data/zulqarnain/fmri_data/aging_data_fmriprep/tedana/clean_nifti_files/sub-194_ses-1_task-rest_space-MNI152NLin2009cAsym_res-2_desc-optcomDenoised_bold.nii.gz with mask /data/zulqarnain/fmri_data/aging_data_fmriprep/masks/GM_fmriprep_spreng_rest_mask_N7.nii.gz (zscore=True, smooth=None, zscore_by_rest=False)\n",
      "09/15/2023 10:27:11 Block 15 rest of run 1 started at 2.000000, ended at 32.000000, contained 30 TRs\n",
      "09/15/2023 10:27:11 Block 16 rest of run 1 started at 32.000000, ended at 62.000000, contained 30 TRs\n",
      "09/15/2023 10:27:12 Block 17 rest of run 1 started at 62.000000, ended at 92.000000, contained 30 TRs\n",
      "09/15/2023 10:27:12 Block 18 rest of run 1 started at 92.000000, ended at 122.000000, contained 30 TRs\n",
      "09/15/2023 10:27:12 Block 19 rest of run 1 started at 122.000000, ended at 152.000000, contained 30 TRs\n",
      "09/15/2023 10:27:12 Block 20 rest of run 1 started at 152.000000, ended at 182.000000, contained 30 TRs\n",
      "09/15/2023 10:27:12 Block 21 rest of run 1 started at 182.000000, ended at 204.000000, contained 22 TRs\n",
      "09/15/2023 10:27:12 Loading Nifti image /data/zulqarnain/fmri_data/aging_data_fmriprep/tedana/clean_nifti_files/sub-194_ses-2_task-rest_space-MNI152NLin2009cAsym_res-2_desc-optcomDenoised_bold.nii.gz with mask None (zscore=True, smooth=None, zscore_by_rest=False)\n",
      "09/15/2023 10:27:24 Loading Nifti image /data/zulqarnain/fmri_data/aging_data_fmriprep/tedana/clean_nifti_files/sub-194_ses-2_task-rest_space-MNI152NLin2009cAsym_res-2_desc-optcomDenoised_bold.nii.gz with mask /data/zulqarnain/fmri_data/aging_data_fmriprep/masks/GM_fmriprep_spreng_rest_mask_N7.nii.gz (zscore=True, smooth=None, zscore_by_rest=False)\n",
      "09/15/2023 10:27:31 Block 22 rest of run 2 started at 2.000000, ended at 32.000000, contained 30 TRs\n",
      "09/15/2023 10:27:31 Block 23 rest of run 2 started at 32.000000, ended at 62.000000, contained 30 TRs\n",
      "09/15/2023 10:27:31 Block 24 rest of run 2 started at 62.000000, ended at 92.000000, contained 30 TRs\n",
      "09/15/2023 10:27:32 Block 25 rest of run 2 started at 92.000000, ended at 122.000000, contained 30 TRs\n",
      "09/15/2023 10:27:32 Block 26 rest of run 2 started at 122.000000, ended at 152.000000, contained 30 TRs\n",
      "09/15/2023 10:27:32 Block 27 rest of run 2 started at 152.000000, ended at 182.000000, contained 30 TRs\n",
      "09/15/2023 10:27:32 Block 28 rest of run 2 started at 182.000000, ended at 204.000000, contained 22 TRs\n",
      "09/15/2023 10:27:32 Loading Nifti image /data/zulqarnain/fmri_data/aging_data_fmriprep/tedana/clean_nifti_files/sub-195_ses-1_task-rest_space-MNI152NLin2009cAsym_res-2_desc-optcomDenoised_bold.nii.gz with mask None (zscore=True, smooth=None, zscore_by_rest=False)\n",
      "09/15/2023 10:27:44 Loading Nifti image /data/zulqarnain/fmri_data/aging_data_fmriprep/tedana/clean_nifti_files/sub-195_ses-1_task-rest_space-MNI152NLin2009cAsym_res-2_desc-optcomDenoised_bold.nii.gz with mask /data/zulqarnain/fmri_data/aging_data_fmriprep/masks/GM_fmriprep_spreng_rest_mask_N7.nii.gz (zscore=True, smooth=None, zscore_by_rest=False)\n",
      "09/15/2023 10:27:52 Block 29 rest of run 1 started at 2.000000, ended at 32.000000, contained 30 TRs\n",
      "09/15/2023 10:27:52 Block 30 rest of run 1 started at 32.000000, ended at 62.000000, contained 30 TRs\n",
      "09/15/2023 10:27:52 Block 31 rest of run 1 started at 62.000000, ended at 92.000000, contained 30 TRs\n",
      "09/15/2023 10:27:52 Block 32 rest of run 1 started at 92.000000, ended at 122.000000, contained 30 TRs\n",
      "09/15/2023 10:27:52 Block 33 rest of run 1 started at 122.000000, ended at 152.000000, contained 30 TRs\n",
      "09/15/2023 10:27:52 Block 34 rest of run 1 started at 152.000000, ended at 182.000000, contained 30 TRs\n",
      "09/15/2023 10:27:52 Block 35 rest of run 1 started at 182.000000, ended at 204.000000, contained 22 TRs\n",
      "09/15/2023 10:27:52 Loading Nifti image /data/zulqarnain/fmri_data/aging_data_fmriprep/tedana/clean_nifti_files/sub-195_ses-2_task-rest_space-MNI152NLin2009cAsym_res-2_desc-optcomDenoised_bold.nii.gz with mask None (zscore=True, smooth=None, zscore_by_rest=False)\n",
      "09/15/2023 10:28:05 Loading Nifti image /data/zulqarnain/fmri_data/aging_data_fmriprep/tedana/clean_nifti_files/sub-195_ses-2_task-rest_space-MNI152NLin2009cAsym_res-2_desc-optcomDenoised_bold.nii.gz with mask /data/zulqarnain/fmri_data/aging_data_fmriprep/masks/GM_fmriprep_spreng_rest_mask_N7.nii.gz (zscore=True, smooth=None, zscore_by_rest=False)\n",
      "09/15/2023 10:28:12 Block 36 rest of run 2 started at 2.000000, ended at 32.000000, contained 30 TRs\n",
      "09/15/2023 10:28:12 Block 37 rest of run 2 started at 32.000000, ended at 62.000000, contained 30 TRs\n",
      "09/15/2023 10:28:12 Block 38 rest of run 2 started at 62.000000, ended at 92.000000, contained 30 TRs\n",
      "09/15/2023 10:28:12 Block 39 rest of run 2 started at 92.000000, ended at 122.000000, contained 30 TRs\n",
      "09/15/2023 10:28:12 Block 40 rest of run 2 started at 122.000000, ended at 152.000000, contained 30 TRs\n",
      "09/15/2023 10:28:12 Block 41 rest of run 2 started at 152.000000, ended at 182.000000, contained 30 TRs\n",
      "09/15/2023 10:28:12 Block 42 rest of run 2 started at 182.000000, ended at 204.000000, contained 22 TRs\n",
      "09/15/2023 10:28:12 Loading Nifti image /data/zulqarnain/fmri_data/aging_data_fmriprep/tedana/clean_nifti_files/sub-197_ses-1_task-rest_space-MNI152NLin2009cAsym_res-2_desc-optcomDenoised_bold.nii.gz with mask None (zscore=True, smooth=None, zscore_by_rest=False)\n"
     ]
    },
    {
     "name": "stderr",
     "output_type": "stream",
     "text": [
      "09/15/2023 10:28:25 Loading Nifti image /data/zulqarnain/fmri_data/aging_data_fmriprep/tedana/clean_nifti_files/sub-197_ses-1_task-rest_space-MNI152NLin2009cAsym_res-2_desc-optcomDenoised_bold.nii.gz with mask /data/zulqarnain/fmri_data/aging_data_fmriprep/masks/GM_fmriprep_spreng_rest_mask_N7.nii.gz (zscore=True, smooth=None, zscore_by_rest=False)\n",
      "09/15/2023 10:28:32 Block 43 rest of run 1 started at 2.000000, ended at 32.000000, contained 30 TRs\n",
      "09/15/2023 10:28:32 Block 44 rest of run 1 started at 32.000000, ended at 62.000000, contained 30 TRs\n",
      "09/15/2023 10:28:32 Block 45 rest of run 1 started at 62.000000, ended at 92.000000, contained 30 TRs\n",
      "09/15/2023 10:28:32 Block 46 rest of run 1 started at 92.000000, ended at 122.000000, contained 30 TRs\n",
      "09/15/2023 10:28:32 Block 47 rest of run 1 started at 122.000000, ended at 152.000000, contained 30 TRs\n",
      "09/15/2023 10:28:32 Block 48 rest of run 1 started at 152.000000, ended at 182.000000, contained 30 TRs\n",
      "09/15/2023 10:28:33 Block 49 rest of run 1 started at 182.000000, ended at 204.000000, contained 22 TRs\n",
      "09/15/2023 10:28:33 Loading Nifti image /data/zulqarnain/fmri_data/aging_data_fmriprep/tedana/clean_nifti_files/sub-197_ses-2_task-rest_space-MNI152NLin2009cAsym_res-2_desc-optcomDenoised_bold.nii.gz with mask None (zscore=True, smooth=None, zscore_by_rest=False)\n",
      "09/15/2023 10:28:45 Loading Nifti image /data/zulqarnain/fmri_data/aging_data_fmriprep/tedana/clean_nifti_files/sub-197_ses-2_task-rest_space-MNI152NLin2009cAsym_res-2_desc-optcomDenoised_bold.nii.gz with mask /data/zulqarnain/fmri_data/aging_data_fmriprep/masks/GM_fmriprep_spreng_rest_mask_N7.nii.gz (zscore=True, smooth=None, zscore_by_rest=False)\n",
      "09/15/2023 10:28:52 Block 50 rest of run 2 started at 2.000000, ended at 32.000000, contained 30 TRs\n",
      "09/15/2023 10:28:52 Block 51 rest of run 2 started at 32.000000, ended at 62.000000, contained 30 TRs\n",
      "09/15/2023 10:28:52 Block 52 rest of run 2 started at 62.000000, ended at 92.000000, contained 30 TRs\n",
      "09/15/2023 10:28:53 Block 53 rest of run 2 started at 92.000000, ended at 122.000000, contained 30 TRs\n",
      "09/15/2023 10:28:53 Block 54 rest of run 2 started at 122.000000, ended at 152.000000, contained 30 TRs\n",
      "09/15/2023 10:28:53 Block 55 rest of run 2 started at 152.000000, ended at 182.000000, contained 30 TRs\n",
      "09/15/2023 10:28:53 Block 56 rest of run 2 started at 182.000000, ended at 204.000000, contained 22 TRs\n",
      "09/15/2023 10:28:53 Loading Nifti image /data/zulqarnain/fmri_data/aging_data_fmriprep/tedana/clean_nifti_files/sub-154_ses-1_task-rest_space-MNI152NLin2009cAsym_res-2_desc-optcomDenoised_bold.nii.gz with mask None (zscore=True, smooth=None, zscore_by_rest=False)\n",
      "09/15/2023 10:29:05 Loading Nifti image /data/zulqarnain/fmri_data/aging_data_fmriprep/tedana/clean_nifti_files/sub-154_ses-1_task-rest_space-MNI152NLin2009cAsym_res-2_desc-optcomDenoised_bold.nii.gz with mask /data/zulqarnain/fmri_data/aging_data_fmriprep/masks/GM_fmriprep_spreng_rest_mask_N7.nii.gz (zscore=True, smooth=None, zscore_by_rest=False)\n",
      "09/15/2023 10:29:13 Block 57 rest of run 1 started at 2.000000, ended at 32.000000, contained 30 TRs\n",
      "09/15/2023 10:29:13 Block 58 rest of run 1 started at 32.000000, ended at 62.000000, contained 30 TRs\n",
      "09/15/2023 10:29:13 Block 59 rest of run 1 started at 62.000000, ended at 92.000000, contained 30 TRs\n",
      "09/15/2023 10:29:13 Block 60 rest of run 1 started at 92.000000, ended at 122.000000, contained 30 TRs\n",
      "09/15/2023 10:29:13 Block 61 rest of run 1 started at 122.000000, ended at 152.000000, contained 30 TRs\n",
      "09/15/2023 10:29:13 Block 62 rest of run 1 started at 152.000000, ended at 182.000000, contained 30 TRs\n",
      "09/15/2023 10:29:13 Block 63 rest of run 1 started at 182.000000, ended at 204.000000, contained 22 TRs\n",
      "09/15/2023 10:29:13 Loading Nifti image /data/zulqarnain/fmri_data/aging_data_fmriprep/tedana/clean_nifti_files/sub-154_ses-2_task-rest_space-MNI152NLin2009cAsym_res-2_desc-optcomDenoised_bold.nii.gz with mask None (zscore=True, smooth=None, zscore_by_rest=False)\n",
      "09/15/2023 10:29:25 Loading Nifti image /data/zulqarnain/fmri_data/aging_data_fmriprep/tedana/clean_nifti_files/sub-154_ses-2_task-rest_space-MNI152NLin2009cAsym_res-2_desc-optcomDenoised_bold.nii.gz with mask /data/zulqarnain/fmri_data/aging_data_fmriprep/masks/GM_fmriprep_spreng_rest_mask_N7.nii.gz (zscore=True, smooth=None, zscore_by_rest=False)\n",
      "09/15/2023 10:29:32 Block 64 rest of run 2 started at 2.000000, ended at 32.000000, contained 30 TRs\n",
      "09/15/2023 10:29:32 Block 65 rest of run 2 started at 32.000000, ended at 62.000000, contained 30 TRs\n",
      "09/15/2023 10:29:32 Block 66 rest of run 2 started at 62.000000, ended at 92.000000, contained 30 TRs\n",
      "09/15/2023 10:29:32 Block 67 rest of run 2 started at 92.000000, ended at 122.000000, contained 30 TRs\n",
      "09/15/2023 10:29:33 Block 68 rest of run 2 started at 122.000000, ended at 152.000000, contained 30 TRs\n",
      "09/15/2023 10:29:33 Block 69 rest of run 2 started at 152.000000, ended at 182.000000, contained 30 TRs\n",
      "09/15/2023 10:29:33 Block 70 rest of run 2 started at 182.000000, ended at 204.000000, contained 22 TRs\n",
      "09/15/2023 10:29:33 Loading Nifti image /data/zulqarnain/fmri_data/aging_data_fmriprep/tedana/clean_nifti_files/sub-163_ses-1_task-rest_space-MNI152NLin2009cAsym_res-2_desc-optcomDenoised_bold.nii.gz with mask None (zscore=True, smooth=None, zscore_by_rest=False)\n",
      "09/15/2023 10:29:45 Loading Nifti image /data/zulqarnain/fmri_data/aging_data_fmriprep/tedana/clean_nifti_files/sub-163_ses-1_task-rest_space-MNI152NLin2009cAsym_res-2_desc-optcomDenoised_bold.nii.gz with mask /data/zulqarnain/fmri_data/aging_data_fmriprep/masks/GM_fmriprep_spreng_rest_mask_N7.nii.gz (zscore=True, smooth=None, zscore_by_rest=False)\n",
      "09/15/2023 10:29:52 Block 71 rest of run 1 started at 2.000000, ended at 32.000000, contained 30 TRs\n",
      "09/15/2023 10:29:52 Block 72 rest of run 1 started at 32.000000, ended at 62.000000, contained 30 TRs\n",
      "09/15/2023 10:29:52 Block 73 rest of run 1 started at 62.000000, ended at 92.000000, contained 30 TRs\n",
      "09/15/2023 10:29:52 Block 74 rest of run 1 started at 92.000000, ended at 122.000000, contained 30 TRs\n",
      "09/15/2023 10:29:53 Block 75 rest of run 1 started at 122.000000, ended at 152.000000, contained 30 TRs\n",
      "09/15/2023 10:29:53 Block 76 rest of run 1 started at 152.000000, ended at 182.000000, contained 30 TRs\n",
      "09/15/2023 10:29:53 Block 77 rest of run 1 started at 182.000000, ended at 204.000000, contained 22 TRs\n",
      "09/15/2023 10:29:53 Loading Nifti image /data/zulqarnain/fmri_data/aging_data_fmriprep/tedana/clean_nifti_files/sub-163_ses-2_task-rest_space-MNI152NLin2009cAsym_res-2_desc-optcomDenoised_bold.nii.gz with mask None (zscore=True, smooth=None, zscore_by_rest=False)\n",
      "09/15/2023 10:30:05 Loading Nifti image /data/zulqarnain/fmri_data/aging_data_fmriprep/tedana/clean_nifti_files/sub-163_ses-2_task-rest_space-MNI152NLin2009cAsym_res-2_desc-optcomDenoised_bold.nii.gz with mask /data/zulqarnain/fmri_data/aging_data_fmriprep/masks/GM_fmriprep_spreng_rest_mask_N7.nii.gz (zscore=True, smooth=None, zscore_by_rest=False)\n",
      "09/15/2023 10:30:12 Block 78 rest of run 2 started at 2.000000, ended at 32.000000, contained 30 TRs\n",
      "09/15/2023 10:30:13 Block 79 rest of run 2 started at 32.000000, ended at 62.000000, contained 30 TRs\n",
      "09/15/2023 10:30:13 Block 80 rest of run 2 started at 62.000000, ended at 92.000000, contained 30 TRs\n",
      "09/15/2023 10:30:13 Block 81 rest of run 2 started at 92.000000, ended at 122.000000, contained 30 TRs\n",
      "09/15/2023 10:30:13 Block 82 rest of run 2 started at 122.000000, ended at 152.000000, contained 30 TRs\n",
      "09/15/2023 10:30:13 Block 83 rest of run 2 started at 152.000000, ended at 182.000000, contained 30 TRs\n",
      "09/15/2023 10:30:13 Block 84 rest of run 2 started at 182.000000, ended at 204.000000, contained 22 TRs\n",
      "09/15/2023 10:30:13 Loading Nifti image /data/zulqarnain/fmri_data/aging_data_fmriprep/tedana/clean_nifti_files/sub-220_ses-1_task-rest_space-MNI152NLin2009cAsym_res-2_desc-optcomDenoised_bold.nii.gz with mask None (zscore=True, smooth=None, zscore_by_rest=False)\n",
      "09/15/2023 10:30:25 Loading Nifti image /data/zulqarnain/fmri_data/aging_data_fmriprep/tedana/clean_nifti_files/sub-220_ses-1_task-rest_space-MNI152NLin2009cAsym_res-2_desc-optcomDenoised_bold.nii.gz with mask /data/zulqarnain/fmri_data/aging_data_fmriprep/masks/GM_fmriprep_spreng_rest_mask_N7.nii.gz (zscore=True, smooth=None, zscore_by_rest=False)\n"
     ]
    },
    {
     "name": "stderr",
     "output_type": "stream",
     "text": [
      "09/15/2023 10:30:33 Block 85 rest of run 1 started at 2.000000, ended at 32.000000, contained 30 TRs\n",
      "09/15/2023 10:30:33 Block 86 rest of run 1 started at 32.000000, ended at 62.000000, contained 30 TRs\n",
      "09/15/2023 10:30:33 Block 87 rest of run 1 started at 62.000000, ended at 92.000000, contained 30 TRs\n",
      "09/15/2023 10:30:33 Block 88 rest of run 1 started at 92.000000, ended at 122.000000, contained 30 TRs\n",
      "09/15/2023 10:30:33 Block 89 rest of run 1 started at 122.000000, ended at 152.000000, contained 30 TRs\n",
      "09/15/2023 10:30:33 Block 90 rest of run 1 started at 152.000000, ended at 182.000000, contained 30 TRs\n",
      "09/15/2023 10:30:34 Block 91 rest of run 1 started at 182.000000, ended at 204.000000, contained 22 TRs\n",
      "09/15/2023 10:30:34 Loading Nifti image /data/zulqarnain/fmri_data/aging_data_fmriprep/tedana/clean_nifti_files/sub-220_ses-2_task-rest_space-MNI152NLin2009cAsym_res-2_desc-optcomDenoised_bold.nii.gz with mask None (zscore=True, smooth=None, zscore_by_rest=False)\n",
      "09/15/2023 10:30:46 Loading Nifti image /data/zulqarnain/fmri_data/aging_data_fmriprep/tedana/clean_nifti_files/sub-220_ses-2_task-rest_space-MNI152NLin2009cAsym_res-2_desc-optcomDenoised_bold.nii.gz with mask /data/zulqarnain/fmri_data/aging_data_fmriprep/masks/GM_fmriprep_spreng_rest_mask_N7.nii.gz (zscore=True, smooth=None, zscore_by_rest=False)\n",
      "09/15/2023 10:30:54 Block 92 rest of run 2 started at 2.000000, ended at 32.000000, contained 30 TRs\n",
      "09/15/2023 10:30:54 Block 93 rest of run 2 started at 32.000000, ended at 62.000000, contained 30 TRs\n",
      "09/15/2023 10:30:54 Block 94 rest of run 2 started at 62.000000, ended at 92.000000, contained 30 TRs\n",
      "09/15/2023 10:30:54 Block 95 rest of run 2 started at 92.000000, ended at 122.000000, contained 30 TRs\n",
      "09/15/2023 10:30:54 Block 96 rest of run 2 started at 122.000000, ended at 152.000000, contained 30 TRs\n",
      "09/15/2023 10:30:54 Block 97 rest of run 2 started at 152.000000, ended at 182.000000, contained 30 TRs\n",
      "09/15/2023 10:30:55 Block 98 rest of run 2 started at 182.000000, ended at 204.000000, contained 22 TRs\n",
      "09/15/2023 10:30:55 Recorded metadata, including voxel locations\n"
     ]
    }
   ],
   "source": [
    "if not existed or OVERWRITE:\n",
    "    data_files = utils.sorted_glob('/data/zulqarnain/fmri_data/aging_data_fmriprep/tedana/clean_nifti_files/*.nii.gz')\n",
    "    \n",
    "    total_trs = 0\n",
    "    metadata = {\n",
    "        'blocks': []\n",
    "    }\n",
    "    block_index = 0\n",
    "    for (sub, ses) in subjects_sessions:\n",
    "#         session_length = session_lengths[(sub, ses)]\n",
    "        file = aging_filename(sub, ses)\n",
    "        session = niidb.FMriActivationBlock(zscore=True)\n",
    "        session.filename = file\n",
    "        session.subject = sub\n",
    "        session.task = 'rest'\n",
    "        session.run = ses\n",
    "        session.load()\n",
    "        session_length = session.activations.shape[0]\n",
    "        del session\n",
    "#         session_lengths[(sub, ses)] = session.activations.shape[0]        \n",
    "        for s in range(NUM_IGNORE_TRS, session_length, 30):\n",
    "            block = niidb.FMriActivationBlock(zscore=True)\n",
    "#             block = session\n",
    "            block.filename = file\n",
    "            block.mask = mask_file\n",
    "            block.subject = sub\n",
    "            block.task = 'rest'\n",
    "            block.run = ses\n",
    "            block.block = block_index\n",
    "            block_index += 1\n",
    "\n",
    "            block.start_time = s\n",
    "            if s < (session_length - 30):\n",
    "                block.end_time = s + 30\n",
    "            else:\n",
    "                block.end_time = session_length\n",
    "            participant_id_ind = 'sub-' + str(sub)\n",
    "            block.individual_differences = {\n",
    "                'sex': participants_db[participants_db['participant_id'] == participant_id_ind]['sex'].to_numpy()[0],\n",
    "                'site': participants_db[participants_db['participant_id'] == participant_id_ind][\"site\"].to_numpy()[0],\n",
    "                'agegroup': participants_db[participants_db['participant_id'] == participant_id_ind][\"agegroup\"].to_numpy()[0],\n",
    "                'age': participants_db[participants_db['participant_id'] == participant_id_ind][\"age\"].to_numpy()[0],\n",
    "                'education': participants_db[participants_db['participant_id'] == participant_id_ind][\"education\"].to_numpy()[0],\n",
    "                'openneuro':  participants_db[participants_db['participant_id'] == participant_id_ind][\"openneuro\"].to_numpy()[0],\n",
    "                'flairslicediff': participants_db[participants_db['participant_id'] == participant_id_ind][\"flair_slicediff\"].to_numpy()[0],\n",
    "                'rest_voldiff': participants_db[participants_db['participant_id'] == participant_id_ind][\"rest_voldiff\"].to_numpy()[0]\n",
    "            }\n",
    "            block.load()\n",
    "            metadata['blocks'].append(block.wds_metadata())\n",
    "            for vals in block.format_wds():\n",
    "                sink.write(vals)\n",
    "            block_trs = (block.end_time - block.start_time)\n",
    "            total_trs += block_trs\n",
    "\n",
    "            logging.info('Block %d %s of run %d started at %f, ended at %f, contained %d TRs', block_index,\n",
    "                         block.task, block.run, sentinel(block.start_time), sentinel(block.end_time),\n",
    "                         block_trs)\n",
    "    metadata['voxel_locations'] = block.locations\n",
    "    metadata['num_times'] = total_trs\n",
    "    torch.save(metadata, tar_file + '.meta')\n",
    "    logging.info('Recorded metadata, including voxel locations')\n",
    "\n",
    "sink.close()"
   ]
  },
  {
   "cell_type": "code",
   "execution_count": 13,
   "metadata": {},
   "outputs": [
    {
     "name": "stderr",
     "output_type": "stream",
     "text": [
      "09/15/2023 10:30:55 Finished building NiiDb out of Spreng dataset\n"
     ]
    }
   ],
   "source": [
    "logging.info('Finished building NiiDb out of Spreng dataset')"
   ]
  }
 ],
 "metadata": {
  "kernelspec": {
   "display_name": "Python 3",
   "language": "python",
   "name": "python3"
  },
  "language_info": {
   "codemirror_mode": {
    "name": "ipython",
    "version": 3
   },
   "file_extension": ".py",
   "mimetype": "text/x-python",
   "name": "python",
   "nbconvert_exporter": "python",
   "pygments_lexer": "ipython3",
   "version": "3.8.5"
  }
 },
 "nbformat": 4,
 "nbformat_minor": 2
}
