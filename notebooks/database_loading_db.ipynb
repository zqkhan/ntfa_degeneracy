{
 "cells": [
  {
   "cell_type": "code",
   "execution_count": 1,
   "metadata": {},
   "outputs": [
    {
     "name": "stdout",
     "output_type": "stream",
     "text": [
      "/home/zulqarnain/algorithm16_skipped/htfatorch\n"
     ]
    }
   ],
   "source": [
    "%cd ../"
   ]
  },
  {
   "cell_type": "code",
   "execution_count": 2,
   "metadata": {},
   "outputs": [
    {
     "name": "stderr",
     "output_type": "stream",
     "text": [
      "/home/zulqarnain/anaconda3/envs/htfatorch/lib/python3.7/site-packages/sklearn/externals/joblib/__init__.py:15: FutureWarning: sklearn.externals.joblib is deprecated in 0.21 and will be removed in 0.23. Please import this functionality directly from joblib, which can be installed with: pip install joblib. If this warning is raised when loading pickled models, you may need to re-serialize those models with scikit-learn 0.21+.\n",
      "  warnings.warn(msg, category=FutureWarning)\n",
      "/home/zulqarnain/anaconda3/envs/htfatorch/lib/python3.7/site-packages/sklearn/utils/deprecation.py:144: FutureWarning: The sklearn.utils.testing module is  deprecated in version 0.22 and will be removed in version 0.24. The corresponding classes / functions should instead be imported from sklearn.utils. Anything that cannot be imported from sklearn.utils is now part of the private API.\n",
      "  warnings.warn(message, FutureWarning)\n",
      "/home/zulqarnain/anaconda3/envs/htfatorch/lib/python3.7/site-packages/sklearn/utils/deprecation.py:144: FutureWarning: The sklearn.datasets.base module is  deprecated in version 0.22 and will be removed in version 0.24. The corresponding classes / functions should instead be imported from sklearn.datasets. Anything that cannot be imported from sklearn.datasets is now part of the private API.\n",
      "  warnings.warn(message, FutureWarning)\n"
     ]
    }
   ],
   "source": [
    "import htfa_torch.niidb as niidb\n",
    "import htfa_torch.utils as utils\n",
    "\n",
    "import csv\n",
    "import glob\n",
    "import logging\n",
    "import os\n",
    "import re"
   ]
  },
  {
   "cell_type": "code",
   "execution_count": 3,
   "metadata": {},
   "outputs": [],
   "source": [
    "%matplotlib inline"
   ]
  },
  {
   "cell_type": "code",
   "execution_count": 4,
   "metadata": {},
   "outputs": [],
   "source": [
    "logging.basicConfig(format='%(asctime)s %(message)s', datefmt='%m/%d/%Y %H:%M:%S',\n",
    "                    level=logging.INFO)"
   ]
  },
  {
   "cell_type": "code",
   "execution_count": 5,
   "metadata": {},
   "outputs": [],
   "source": [
    "db_file = 'data/simulated_simplified_data_3_tiny.db'\n",
    "mask_file = '/home/zulqarnain/fmri_data/simulated_simplified_data_C/wholebrain.nii.gz'"
   ]
  },
  {
   "cell_type": "code",
   "execution_count": 6,
   "metadata": {},
   "outputs": [],
   "source": [
    "OVERWRITE = True\n",
    "existed = os.path.isfile(db_file)\n",
    "db = niidb.FMriActivationsDb(db_file, mask=mask_file)"
   ]
  },
  {
   "cell_type": "code",
   "execution_count": 7,
   "metadata": {},
   "outputs": [
    {
     "name": "stderr",
     "output_type": "stream",
     "text": [
      "05/18/2020 09:59:30 Recording blocks in /home/zulqarnain/fmri_data/simulated_simplified_data_C/Scenario_3_tiny/nifti_files/participant_1_video1_low_0.nii\n",
      "05/18/2020 09:59:30 Subject 1 performing task video1\n",
      "05/18/2020 09:59:30 Recording blocks in /home/zulqarnain/fmri_data/simulated_simplified_data_C/Scenario_3_tiny/nifti_files/participant_1_video2_low_0.nii\n",
      "05/18/2020 09:59:30 Subject 1 performing task video2\n",
      "05/18/2020 09:59:30 Recording blocks in /home/zulqarnain/fmri_data/simulated_simplified_data_C/Scenario_3_tiny/nifti_files/participant_1_video3_high_0.nii\n",
      "05/18/2020 09:59:30 Subject 1 performing task video3\n",
      "05/18/2020 09:59:30 Recording blocks in /home/zulqarnain/fmri_data/simulated_simplified_data_C/Scenario_3_tiny/nifti_files/participant_1_video4_high_0.nii\n",
      "05/18/2020 09:59:30 Subject 1 performing task video4\n",
      "05/18/2020 09:59:30 Recording blocks in /home/zulqarnain/fmri_data/simulated_simplified_data_C/Scenario_3_tiny/nifti_files/participant_1_video5_high_0.nii\n",
      "05/18/2020 09:59:30 Subject 1 performing task video5\n",
      "05/18/2020 09:59:30 Recording blocks in /home/zulqarnain/fmri_data/simulated_simplified_data_C/Scenario_3_tiny/nifti_files/participant_1_video6_high_0.nii\n",
      "05/18/2020 09:59:30 Subject 1 performing task video6\n",
      "05/18/2020 09:59:30 Recording blocks in /home/zulqarnain/fmri_data/simulated_simplified_data_C/Scenario_3_tiny/nifti_files/participant_1_video7_high_0.nii\n",
      "05/18/2020 09:59:30 Subject 1 performing task video7\n",
      "05/18/2020 09:59:30 Recording blocks in /home/zulqarnain/fmri_data/simulated_simplified_data_C/Scenario_3_tiny/nifti_files/participant_1_video8_high_0.nii\n",
      "05/18/2020 09:59:30 Subject 1 performing task video8\n",
      "05/18/2020 09:59:30 Recording blocks in /home/zulqarnain/fmri_data/simulated_simplified_data_C/Scenario_3_tiny/nifti_files/participant_2_video1_low_0.nii\n",
      "05/18/2020 09:59:30 Subject 2 performing task video1\n",
      "05/18/2020 09:59:30 Recording blocks in /home/zulqarnain/fmri_data/simulated_simplified_data_C/Scenario_3_tiny/nifti_files/participant_2_video2_low_0.nii\n",
      "05/18/2020 09:59:30 Subject 2 performing task video2\n",
      "05/18/2020 09:59:30 Recording blocks in /home/zulqarnain/fmri_data/simulated_simplified_data_C/Scenario_3_tiny/nifti_files/participant_2_video3_high_0.nii\n",
      "05/18/2020 09:59:30 Subject 2 performing task video3\n",
      "05/18/2020 09:59:30 Recording blocks in /home/zulqarnain/fmri_data/simulated_simplified_data_C/Scenario_3_tiny/nifti_files/participant_2_video4_high_0.nii\n",
      "05/18/2020 09:59:30 Subject 2 performing task video4\n",
      "05/18/2020 09:59:30 Recording blocks in /home/zulqarnain/fmri_data/simulated_simplified_data_C/Scenario_3_tiny/nifti_files/participant_2_video5_high_0.nii\n",
      "05/18/2020 09:59:30 Subject 2 performing task video5\n",
      "05/18/2020 09:59:30 Recording blocks in /home/zulqarnain/fmri_data/simulated_simplified_data_C/Scenario_3_tiny/nifti_files/participant_2_video6_high_0.nii\n",
      "05/18/2020 09:59:30 Subject 2 performing task video6\n",
      "05/18/2020 09:59:30 Recording blocks in /home/zulqarnain/fmri_data/simulated_simplified_data_C/Scenario_3_tiny/nifti_files/participant_2_video7_high_0.nii\n",
      "05/18/2020 09:59:30 Subject 2 performing task video7\n",
      "05/18/2020 09:59:30 Recording blocks in /home/zulqarnain/fmri_data/simulated_simplified_data_C/Scenario_3_tiny/nifti_files/participant_2_video8_high_0.nii\n",
      "05/18/2020 09:59:30 Subject 2 performing task video8\n"
     ]
    }
   ],
   "source": [
    "if not existed or OVERWRITE:\n",
    "    data_files = utils.sorted_glob('/home/zulqarnain/fmri_data/simulated_simplified_data_C/Scenario_3_tiny/nifti_files/*.nii')\n",
    "    for data_file in data_files:\n",
    "        filename = data_file.split('/')[-1]\n",
    "        [_,subject,task_1,task_2,stimulus_number] = filename.strip('.nii').split('_')\n",
    "        task = task_1\n",
    "        stimulus = task_1 + '_' +  task_2\n",
    "        stimulus_number = int(stimulus_number)\n",
    "        subject = int(subject)\n",
    "        logging.info(\"Recording blocks in %s\", data_file)\n",
    "\n",
    "        synthetic_block = niidb.FMriActivationBlock(zscore=False)\n",
    "        synthetic_block.task = task\n",
    "        synthetic_block.filename = data_file\n",
    "        synthetic_block.subject = subject\n",
    "        synthetic_block.start_time = 0\n",
    "        synthetic_block.end_time = None\n",
    "        synthetic_block.individual_differences = {\n",
    "            'stimulus': stimulus,\n",
    "            'stimulus_number': stimulus_number,\n",
    "        }\n",
    "        db.upsert(synthetic_block)\n",
    "        logging.info('Subject %d performing task %s', subject, synthetic_block.task)"
   ]
  },
  {
   "cell_type": "code",
   "execution_count": 8,
   "metadata": {},
   "outputs": [
    {
     "name": "stderr",
     "output_type": "stream",
     "text": [
      "05/18/2020 09:59:30 Finished building NiiDb out of synthetic dataset\n"
     ]
    }
   ],
   "source": [
    "logging.info('Finished building NiiDb out of synthetic dataset')"
   ]
  },
  {
   "cell_type": "code",
   "execution_count": null,
   "metadata": {},
   "outputs": [],
   "source": []
  }
 ],
 "metadata": {
  "kernelspec": {
   "display_name": "Python 3",
   "language": "python",
   "name": "python3"
  },
  "language_info": {
   "codemirror_mode": {
    "name": "ipython",
    "version": 3
   },
   "file_extension": ".py",
   "mimetype": "text/x-python",
   "name": "python",
   "nbconvert_exporter": "python",
   "pygments_lexer": "ipython3",
   "version": "3.7.5"
  }
 },
 "nbformat": 4,
 "nbformat_minor": 2
}
